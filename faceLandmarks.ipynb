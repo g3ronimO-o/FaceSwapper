{
 "cells": [
  {
   "cell_type": "code",
   "execution_count": 23,
   "metadata": {},
   "outputs": [],
   "source": [
    "import cv2\n",
    "import dlib\n",
    "import numpy as np"
   ]
  },
  {
   "cell_type": "code",
   "execution_count": 24,
   "metadata": {},
   "outputs": [],
   "source": [
    "PATH = 'shape_predictor_68_face_landmarks.dat'"
   ]
  },
  {
   "cell_type": "code",
   "execution_count": 25,
   "metadata": {},
   "outputs": [],
   "source": [
    "predictor = dlib.shape_predictor(PATH)\n",
    "detector = dlib.get_frontal_face_detector() "
   ]
  },
  {
   "cell_type": "code",
   "execution_count": 26,
   "metadata": {},
   "outputs": [],
   "source": [
    "img1 = cv2.imread('images/messi.jpg')\n",
    "img2 = cv2.imread('images/ronaldo.jpg')\n",
    "img3 = cv2.imread('images/Trump.jpg')\n",
    "img4 = cv2.imread('images/jongun.jpg')"
   ]
  },
  {
   "cell_type": "code",
   "execution_count": 27,
   "metadata": {},
   "outputs": [],
   "source": [
    "class TooManyFaces(Exception):\n",
    "    pass"
   ]
  },
  {
   "cell_type": "code",
   "execution_count": 28,
   "metadata": {},
   "outputs": [],
   "source": [
    "class NoFaces(Exception):\n",
    "    pass"
   ]
  },
  {
   "cell_type": "code",
   "execution_count": 29,
   "metadata": {},
   "outputs": [],
   "source": [
    "def get_landmarks(image):\n",
    "    points = detector(image, 1)\n",
    "\n",
    "    if len(points) > 1:\n",
    "        raise TooManyFaces\n",
    "    if len(points) == 0:\n",
    "        raise NoFaces\n",
    "\n",
    "    return np.matrix([[t.x, t.y] for t in predictor(image, points[0]).parts()])"
   ]
  },
  {
   "cell_type": "code",
   "execution_count": 30,
   "metadata": {},
   "outputs": [],
   "source": [
    "def mark_landmarks(image, landmarks):\n",
    "    image = image.copy()\n",
    "    for i, point in enumerate(landmarks):\n",
    "        position = (point[0,0], point[0,1])\n",
    "        cv2.putText(image, str(i), (position), fontFace=cv2.FONT_ITALIC, fontScale=0.4, color=(0,0,0))\n",
    "        cv2.circle(image, position, 3, color=(0,255,0))\n",
    "    return image"
   ]
  },
  {
   "cell_type": "code",
   "execution_count": 31,
   "metadata": {},
   "outputs": [],
   "source": [
    "l1 = get_landmarks(img1)\n",
    "marked_image1 = mark_landmarks(img1, l1)\n",
    "\n",
    "l2 = get_landmarks(img2)\n",
    "marked_image2 = mark_landmarks(img2, l2)\n",
    "\n",
    "l3 = get_landmarks(img3)\n",
    "marked_image3 = mark_landmarks(img3, l3)\n",
    "\n",
    "l4 = get_landmarks(img4)\n",
    "marked_image4 = mark_landmarks(img4, l4)"
   ]
  },
  {
   "cell_type": "code",
   "execution_count": 32,
   "metadata": {},
   "outputs": [],
   "source": [
    "cv2.imshow(\"Landmarks1\", marked_image1)\n",
    "cv2.imshow(\"Landmarks2\", marked_image2)\n",
    "cv2.imshow(\"Landamrks3\", marked_image3)\n",
    "cv2.imshow(\"Landmarks4\", marked_image4)"
   ]
  },
  {
   "cell_type": "code",
   "execution_count": 33,
   "metadata": {},
   "outputs": [],
   "source": [
    "cv2.waitKey(0)\n",
    "cv2.destroyAllWindows()"
   ]
  }
 ],
 "metadata": {
  "kernelspec": {
   "display_name": "Python 3.7 (tensorflow)",
   "language": "python",
   "name": "tensorflow"
  },
  "language_info": {
   "codemirror_mode": {
    "name": "ipython",
    "version": 3
   },
   "file_extension": ".py",
   "mimetype": "text/x-python",
   "name": "python",
   "nbconvert_exporter": "python",
   "pygments_lexer": "ipython3",
   "version": "3.7.9"
  }
 },
 "nbformat": 4,
 "nbformat_minor": 4
}
